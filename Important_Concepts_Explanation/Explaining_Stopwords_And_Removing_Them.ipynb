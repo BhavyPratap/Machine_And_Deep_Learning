{
 "cells": [
  {
   "cell_type": "markdown",
   "metadata": {},
   "source": [
    "# \"Stopwords\" *By Harshit Dawar*"
   ]
  },
  {
   "cell_type": "markdown",
   "metadata": {},
   "source": [
    "# What are StopWords?"
   ]
  },
  {
   "cell_type": "markdown",
   "metadata": {},
   "source": [
    "- Stopwords are the words which are very common in any text.\n",
    "- They do not have any value in the sentence when we need to apply Natural Language Processing.\n",
    "- Natural Language Processing(NLP) always works on major words and removed un-useful words which are having not any importance."
   ]
  },
  {
   "cell_type": "markdown",
   "metadata": {},
   "source": [
    "# Removing Stopwords"
   ]
  },
  {
   "cell_type": "code",
   "execution_count": 10,
   "metadata": {},
   "outputs": [
    {
     "name": "stderr",
     "output_type": "stream",
     "text": [
      "[nltk_data] Downloading package stopwords to\n",
      "[nltk_data]     /Users/harshitdawar/nltk_data...\n",
      "[nltk_data]   Package stopwords is already up-to-date!\n"
     ]
    }
   ],
   "source": [
    "# Importing Required Libraries\n",
    "import nltk\n",
    "\n",
    "# Downloading StopWords\n",
    "nltk.download(\"stopwords\")\n",
    "\n",
    "# Imporitng Stopwords\n",
    "from nltk.corpus import stopwords"
   ]
  },
  {
   "cell_type": "markdown",
   "metadata": {},
   "source": [
    "# Removing Punctuations"
   ]
  },
  {
   "cell_type": "code",
   "execution_count": 11,
   "metadata": {},
   "outputs": [
    {
     "name": "stdout",
     "output_type": "stream",
     "text": [
      "Hello I am Harshit Dawar the developer of this File I love creating these type projects and I feel glad when Projects created by me add value to other People Life\n"
     ]
    }
   ],
   "source": [
    "import string\n",
    "\n",
    "# Defining A String\n",
    "String = \"Hello, I am Harshit Dawar the developer of this File! I love creating these type projects and I feel glad \\\n",
    "when Projects created by me add value to other People Life!\"\n",
    "\n",
    "# Using List Comprehension to remove strings!\n",
    "String_Punctuation_Removed = [char for char in String if char not in string.punctuation]\n",
    "                                                            \n",
    "# Using join method to combine the characters in the above list\n",
    "print(\"\".join(String_Punctuation_Removed))"
   ]
  },
  {
   "cell_type": "markdown",
   "metadata": {},
   "source": [
    "# Removing StopWords"
   ]
  },
  {
   "cell_type": "code",
   "execution_count": 15,
   "metadata": {},
   "outputs": [],
   "source": [
    "string = \"\".join(String_Punctuation_Removed)\n",
    "String_Stopwrods_Removed = [char for char in string.split() if char.lower() not in stopwords.words(\"english\")]"
   ]
  },
  {
   "cell_type": "code",
   "execution_count": 16,
   "metadata": {},
   "outputs": [
    {
     "name": "stdout",
     "output_type": "stream",
     "text": [
      "['Hello', 'Harshit', 'Dawar', 'developer', 'File', 'love', 'creating', 'type', 'projects', 'feel', 'glad', 'Projects', 'created', 'add', 'value', 'People', 'Life']\n"
     ]
    }
   ],
   "source": [
    "print(String_Stopwrods_Removed)"
   ]
  },
  {
   "cell_type": "markdown",
   "metadata": {},
   "source": [
    "# Hope You Liked It!"
   ]
  }
 ],
 "metadata": {
  "kernelspec": {
   "display_name": "Python 3",
   "language": "python",
   "name": "python3"
  },
  "language_info": {
   "codemirror_mode": {
    "name": "ipython",
    "version": 3
   },
   "file_extension": ".py",
   "mimetype": "text/x-python",
   "name": "python",
   "nbconvert_exporter": "python",
   "pygments_lexer": "ipython3",
   "version": "3.7.6"
  }
 },
 "nbformat": 4,
 "nbformat_minor": 4
}
