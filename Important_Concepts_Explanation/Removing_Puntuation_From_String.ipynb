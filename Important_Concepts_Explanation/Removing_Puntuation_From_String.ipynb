{
 "cells": [
  {
   "cell_type": "markdown",
   "metadata": {},
   "source": [
    "# <font color = \"Red\"> Removing Punctuation From a String </font> <font color = \"Green\"> By Harshit Dawar </font>"
   ]
  },
  {
   "cell_type": "markdown",
   "metadata": {},
   "source": [
    "## <font color = \"Brown\"> Importing Required Libraries"
   ]
  },
  {
   "cell_type": "code",
   "execution_count": 1,
   "metadata": {},
   "outputs": [],
   "source": [
    "import string                       # To use already defined punctuations"
   ]
  },
  {
   "cell_type": "code",
   "execution_count": 2,
   "metadata": {},
   "outputs": [
    {
     "name": "stdout",
     "output_type": "stream",
     "text": [
      "!\"#$%&'()*+,-./:;<=>?@[\\]^_`{|}~\n"
     ]
    }
   ],
   "source": [
    "# Printing Punctuations\n",
    "print(string.punctuation)"
   ]
  },
  {
   "cell_type": "code",
   "execution_count": 6,
   "metadata": {},
   "outputs": [
    {
     "name": "stdout",
     "output_type": "stream",
     "text": [
      "Hello I am Harshit Dawar the developer of this File I love creating these type projects and I feel glad when Projects created by me add value to other People Life\n"
     ]
    }
   ],
   "source": [
    "#Defining A String\n",
    "String = \"Hello, I am Harshit Dawar the developer of this File! I love creating these type projects and I feel glad \\\n",
    "when Projects created by me add value to other People Life!\"\n",
    "\n",
    "# Using List Comprehension to remove strings!\n",
    "String_Punctuation_Removed = [char for char in String if char not in string.punctuation]\n",
    "                                                            \n",
    "# Using join method to combine the characters in the above list\n",
    "print(\"\".join(String_Punctuation_Removed))"
   ]
  },
  {
   "cell_type": "markdown",
   "metadata": {},
   "source": [
    "## <font color = \"Brown\"> Hope You Liked It!"
   ]
  }
 ],
 "metadata": {
  "kernelspec": {
   "display_name": "Python 3",
   "language": "python",
   "name": "python3"
  },
  "language_info": {
   "codemirror_mode": {
    "name": "ipython",
    "version": 3
   },
   "file_extension": ".py",
   "mimetype": "text/x-python",
   "name": "python",
   "nbconvert_exporter": "python",
   "pygments_lexer": "ipython3",
   "version": "3.7.6"
  }
 },
 "nbformat": 4,
 "nbformat_minor": 4
}
